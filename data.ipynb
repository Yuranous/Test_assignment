{
 "cells": [
  {
   "cell_type": "code",
   "execution_count": 17,
   "metadata": {
    "collapsed": true
   },
   "outputs": [],
   "source": [
    "import pandas as pd"
   ]
  },
  {
   "cell_type": "code",
   "execution_count": 18,
   "outputs": [],
   "source": [
    "df = pd.read_csv('res/signatures.tsv', sep='\\t', index_col=0)"
   ],
   "metadata": {
    "collapsed": false,
    "pycharm": {
     "name": "#%%\n"
    }
   }
  },
  {
   "cell_type": "code",
   "execution_count": 19,
   "outputs": [
    {
     "data": {
      "text/plain": "               MHCI     MHCII  Coactivation_molecules  Effector_cells  \\\nNSCLC378  -0.600075  0.635841                0.950890        0.379778   \nNSCLC1104 -3.509208 -2.025273               -1.571744       -2.226998   \nNSCLC947   1.723888  1.188921                0.866755        1.525956   \nNSCLC990  -2.037099 -4.000000               -1.717769       -2.200747   \nNSCLC1203  0.012842  0.749891               -0.764203       -1.518218   \n\n           T_cell_traffic  NK_cells   T_cells   B_cells  M1_signatures  \\\nNSCLC378         0.263175  0.541321  0.568287 -0.096758       0.460598   \nNSCLC1104       -1.512830 -1.278492 -2.182547 -0.847954      -1.306368   \nNSCLC947         0.591038  1.667859  2.379442  0.944493      -0.973912   \nNSCLC990        -3.321540 -1.592753 -0.962534 -0.518339      -1.166978   \nNSCLC1203       -1.470430 -0.795012 -1.565079 -0.851006      -0.103005   \n\n           Th1_signature  ...  Macrophage_DC_traffic  Th2_signature  \\\nNSCLC378        1.014394  ...               0.404286       0.086755   \nNSCLC1104      -1.970837  ...              -2.456226      -1.555875   \nNSCLC947        2.891224  ...               0.949615       1.162584   \nNSCLC990       -0.840374  ...              -1.440448      -0.715406   \nNSCLC1203       0.397142  ...              -1.079037      -0.313687   \n\n           Protumor_cytokines       CAF    Matrix  Matrix_remodeling  \\\nNSCLC378             0.006440  0.320376  0.166903           1.811324   \nNSCLC1104           -1.057098 -0.548060 -0.471267          -1.119051   \nNSCLC947             0.571323  0.646302 -1.158277          -0.789704   \nNSCLC990            -1.025752 -0.454169 -1.772630          -1.174301   \nNSCLC1203           -2.091551 -0.958454 -0.686621          -1.345137   \n\n           Angiogenesis  Endothelium  Proliferation_rate  EMT_signature  \nNSCLC378       0.608626     1.007820           -0.854224      -0.211398  \nNSCLC1104     -0.964857     0.682636            0.006787      -0.313194  \nNSCLC947      -0.990675     0.542132           -0.290187       0.614932  \nNSCLC990      -1.081701    -0.821663            1.873276       2.763335  \nNSCLC1203     -1.672832    -0.116346           -0.920670      -1.455464  \n\n[5 rows x 29 columns]",
      "text/html": "<div>\n<style scoped>\n    .dataframe tbody tr th:only-of-type {\n        vertical-align: middle;\n    }\n\n    .dataframe tbody tr th {\n        vertical-align: top;\n    }\n\n    .dataframe thead th {\n        text-align: right;\n    }\n</style>\n<table border=\"1\" class=\"dataframe\">\n  <thead>\n    <tr style=\"text-align: right;\">\n      <th></th>\n      <th>MHCI</th>\n      <th>MHCII</th>\n      <th>Coactivation_molecules</th>\n      <th>Effector_cells</th>\n      <th>T_cell_traffic</th>\n      <th>NK_cells</th>\n      <th>T_cells</th>\n      <th>B_cells</th>\n      <th>M1_signatures</th>\n      <th>Th1_signature</th>\n      <th>...</th>\n      <th>Macrophage_DC_traffic</th>\n      <th>Th2_signature</th>\n      <th>Protumor_cytokines</th>\n      <th>CAF</th>\n      <th>Matrix</th>\n      <th>Matrix_remodeling</th>\n      <th>Angiogenesis</th>\n      <th>Endothelium</th>\n      <th>Proliferation_rate</th>\n      <th>EMT_signature</th>\n    </tr>\n  </thead>\n  <tbody>\n    <tr>\n      <th>NSCLC378</th>\n      <td>-0.600075</td>\n      <td>0.635841</td>\n      <td>0.950890</td>\n      <td>0.379778</td>\n      <td>0.263175</td>\n      <td>0.541321</td>\n      <td>0.568287</td>\n      <td>-0.096758</td>\n      <td>0.460598</td>\n      <td>1.014394</td>\n      <td>...</td>\n      <td>0.404286</td>\n      <td>0.086755</td>\n      <td>0.006440</td>\n      <td>0.320376</td>\n      <td>0.166903</td>\n      <td>1.811324</td>\n      <td>0.608626</td>\n      <td>1.007820</td>\n      <td>-0.854224</td>\n      <td>-0.211398</td>\n    </tr>\n    <tr>\n      <th>NSCLC1104</th>\n      <td>-3.509208</td>\n      <td>-2.025273</td>\n      <td>-1.571744</td>\n      <td>-2.226998</td>\n      <td>-1.512830</td>\n      <td>-1.278492</td>\n      <td>-2.182547</td>\n      <td>-0.847954</td>\n      <td>-1.306368</td>\n      <td>-1.970837</td>\n      <td>...</td>\n      <td>-2.456226</td>\n      <td>-1.555875</td>\n      <td>-1.057098</td>\n      <td>-0.548060</td>\n      <td>-0.471267</td>\n      <td>-1.119051</td>\n      <td>-0.964857</td>\n      <td>0.682636</td>\n      <td>0.006787</td>\n      <td>-0.313194</td>\n    </tr>\n    <tr>\n      <th>NSCLC947</th>\n      <td>1.723888</td>\n      <td>1.188921</td>\n      <td>0.866755</td>\n      <td>1.525956</td>\n      <td>0.591038</td>\n      <td>1.667859</td>\n      <td>2.379442</td>\n      <td>0.944493</td>\n      <td>-0.973912</td>\n      <td>2.891224</td>\n      <td>...</td>\n      <td>0.949615</td>\n      <td>1.162584</td>\n      <td>0.571323</td>\n      <td>0.646302</td>\n      <td>-1.158277</td>\n      <td>-0.789704</td>\n      <td>-0.990675</td>\n      <td>0.542132</td>\n      <td>-0.290187</td>\n      <td>0.614932</td>\n    </tr>\n    <tr>\n      <th>NSCLC990</th>\n      <td>-2.037099</td>\n      <td>-4.000000</td>\n      <td>-1.717769</td>\n      <td>-2.200747</td>\n      <td>-3.321540</td>\n      <td>-1.592753</td>\n      <td>-0.962534</td>\n      <td>-0.518339</td>\n      <td>-1.166978</td>\n      <td>-0.840374</td>\n      <td>...</td>\n      <td>-1.440448</td>\n      <td>-0.715406</td>\n      <td>-1.025752</td>\n      <td>-0.454169</td>\n      <td>-1.772630</td>\n      <td>-1.174301</td>\n      <td>-1.081701</td>\n      <td>-0.821663</td>\n      <td>1.873276</td>\n      <td>2.763335</td>\n    </tr>\n    <tr>\n      <th>NSCLC1203</th>\n      <td>0.012842</td>\n      <td>0.749891</td>\n      <td>-0.764203</td>\n      <td>-1.518218</td>\n      <td>-1.470430</td>\n      <td>-0.795012</td>\n      <td>-1.565079</td>\n      <td>-0.851006</td>\n      <td>-0.103005</td>\n      <td>0.397142</td>\n      <td>...</td>\n      <td>-1.079037</td>\n      <td>-0.313687</td>\n      <td>-2.091551</td>\n      <td>-0.958454</td>\n      <td>-0.686621</td>\n      <td>-1.345137</td>\n      <td>-1.672832</td>\n      <td>-0.116346</td>\n      <td>-0.920670</td>\n      <td>-1.455464</td>\n    </tr>\n  </tbody>\n</table>\n<p>5 rows × 29 columns</p>\n</div>"
     },
     "execution_count": 19,
     "metadata": {},
     "output_type": "execute_result"
    }
   ],
   "source": [
    "df.head()"
   ],
   "metadata": {
    "collapsed": false,
    "pycharm": {
     "name": "#%%\n"
    }
   }
  },
  {
   "cell_type": "code",
   "execution_count": 20,
   "outputs": [
    {
     "data": {
      "text/plain": "MHCI                     -3.509208\nMHCII                    -2.025273\nCoactivation_molecules   -1.571744\nEffector_cells           -2.226998\nT_cell_traffic           -1.512830\nNK_cells                 -1.278492\nT_cells                  -2.182547\nB_cells                  -0.847954\nM1_signatures            -1.306368\nTh1_signature            -1.970837\nAntitumor_cytokines      -0.563874\nCheckpoint_inhibition    -1.297516\nTreg                     -1.003820\nT_reg_traffic            -1.905448\nNeutrophil_signature     -0.765126\nGranulocyte_traffic      -2.404892\nMDSC                     -3.028928\nMDSC_traffic             -1.879092\nMacrophages              -1.846475\nMacrophage_DC_traffic    -2.456226\nTh2_signature            -1.555875\nProtumor_cytokines       -1.057098\nCAF                      -0.548060\nMatrix                   -0.471267\nMatrix_remodeling        -1.119051\nAngiogenesis             -0.964857\nEndothelium               0.682636\nProliferation_rate        0.006787\nEMT_signature            -0.313194\nName: NSCLC1104, dtype: float64"
     },
     "execution_count": 20,
     "metadata": {},
     "output_type": "execute_result"
    }
   ],
   "source": [
    "# Искать по названию индекса (идентификатор пациента)\n",
    "search_by_index = df.loc['NSCLC1104']\n",
    "search_by_index"
   ],
   "metadata": {
    "collapsed": false,
    "pycharm": {
     "name": "#%%\n"
    }
   }
  },
  {
   "cell_type": "code",
   "execution_count": 21,
   "outputs": [
    {
     "data": {
      "text/plain": "MHCI    -3.509208\nMHCII   -2.025273\nName: NSCLC1104, dtype: float64"
     },
     "execution_count": 21,
     "metadata": {},
     "output_type": "execute_result"
    }
   ],
   "source": [
    "specific_fields = search_by_index.loc[['MHCI', 'MHCII']]\n",
    "specific_fields"
   ],
   "metadata": {
    "collapsed": false,
    "pycharm": {
     "name": "#%%\n"
    }
   }
  },
  {
   "cell_type": "code",
   "execution_count": 22,
   "outputs": [
    {
     "data": {
      "text/plain": "               MHCI     MHCII\nNSCLC378  -0.600075  0.635841\nNSCLC1104 -3.509208 -2.025273\nNSCLC947   1.723888  1.188921\nNSCLC990  -2.037099 -4.000000\nNSCLC1203  0.012842  0.749891\nNSCLC1327 -0.171112  0.546121\nNSCLC1401  0.739236  0.145242\nNSCLC1155  0.000000 -0.935168\nNSCLC573   0.734438  0.974038\nNSCLC825  -1.422171  0.038727\nNSCLC1528 -1.326564  0.369677\nNSCLC1508  0.199196  0.685099\nNSCLC1708  0.871223  0.526853\nNSCLC1352 -1.381475 -1.905411\nNSCLC1066  0.528431 -0.527712\nNSCLC1017 -0.078876 -0.028024\nNSCLC1358  0.773404 -0.006583\nNSCLC1510  1.632747  0.548734\nNSCLC1164 -1.719654 -3.694218\nNSCLC1412  1.403462 -1.563144\nNSCLC1145  2.020388  0.898053\nNSCLC1425  1.204693 -0.388465\nNSCLC1554 -0.502616 -0.275128\nNSCLC1619 -0.916581 -0.003904\nNSCLC1809  0.207986  0.563452\nNSCLC1873 -0.313580 -0.536096\nNSCLC1079 -0.821418  0.000000",
      "text/html": "<div>\n<style scoped>\n    .dataframe tbody tr th:only-of-type {\n        vertical-align: middle;\n    }\n\n    .dataframe tbody tr th {\n        vertical-align: top;\n    }\n\n    .dataframe thead th {\n        text-align: right;\n    }\n</style>\n<table border=\"1\" class=\"dataframe\">\n  <thead>\n    <tr style=\"text-align: right;\">\n      <th></th>\n      <th>MHCI</th>\n      <th>MHCII</th>\n    </tr>\n  </thead>\n  <tbody>\n    <tr>\n      <th>NSCLC378</th>\n      <td>-0.600075</td>\n      <td>0.635841</td>\n    </tr>\n    <tr>\n      <th>NSCLC1104</th>\n      <td>-3.509208</td>\n      <td>-2.025273</td>\n    </tr>\n    <tr>\n      <th>NSCLC947</th>\n      <td>1.723888</td>\n      <td>1.188921</td>\n    </tr>\n    <tr>\n      <th>NSCLC990</th>\n      <td>-2.037099</td>\n      <td>-4.000000</td>\n    </tr>\n    <tr>\n      <th>NSCLC1203</th>\n      <td>0.012842</td>\n      <td>0.749891</td>\n    </tr>\n    <tr>\n      <th>NSCLC1327</th>\n      <td>-0.171112</td>\n      <td>0.546121</td>\n    </tr>\n    <tr>\n      <th>NSCLC1401</th>\n      <td>0.739236</td>\n      <td>0.145242</td>\n    </tr>\n    <tr>\n      <th>NSCLC1155</th>\n      <td>0.000000</td>\n      <td>-0.935168</td>\n    </tr>\n    <tr>\n      <th>NSCLC573</th>\n      <td>0.734438</td>\n      <td>0.974038</td>\n    </tr>\n    <tr>\n      <th>NSCLC825</th>\n      <td>-1.422171</td>\n      <td>0.038727</td>\n    </tr>\n    <tr>\n      <th>NSCLC1528</th>\n      <td>-1.326564</td>\n      <td>0.369677</td>\n    </tr>\n    <tr>\n      <th>NSCLC1508</th>\n      <td>0.199196</td>\n      <td>0.685099</td>\n    </tr>\n    <tr>\n      <th>NSCLC1708</th>\n      <td>0.871223</td>\n      <td>0.526853</td>\n    </tr>\n    <tr>\n      <th>NSCLC1352</th>\n      <td>-1.381475</td>\n      <td>-1.905411</td>\n    </tr>\n    <tr>\n      <th>NSCLC1066</th>\n      <td>0.528431</td>\n      <td>-0.527712</td>\n    </tr>\n    <tr>\n      <th>NSCLC1017</th>\n      <td>-0.078876</td>\n      <td>-0.028024</td>\n    </tr>\n    <tr>\n      <th>NSCLC1358</th>\n      <td>0.773404</td>\n      <td>-0.006583</td>\n    </tr>\n    <tr>\n      <th>NSCLC1510</th>\n      <td>1.632747</td>\n      <td>0.548734</td>\n    </tr>\n    <tr>\n      <th>NSCLC1164</th>\n      <td>-1.719654</td>\n      <td>-3.694218</td>\n    </tr>\n    <tr>\n      <th>NSCLC1412</th>\n      <td>1.403462</td>\n      <td>-1.563144</td>\n    </tr>\n    <tr>\n      <th>NSCLC1145</th>\n      <td>2.020388</td>\n      <td>0.898053</td>\n    </tr>\n    <tr>\n      <th>NSCLC1425</th>\n      <td>1.204693</td>\n      <td>-0.388465</td>\n    </tr>\n    <tr>\n      <th>NSCLC1554</th>\n      <td>-0.502616</td>\n      <td>-0.275128</td>\n    </tr>\n    <tr>\n      <th>NSCLC1619</th>\n      <td>-0.916581</td>\n      <td>-0.003904</td>\n    </tr>\n    <tr>\n      <th>NSCLC1809</th>\n      <td>0.207986</td>\n      <td>0.563452</td>\n    </tr>\n    <tr>\n      <th>NSCLC1873</th>\n      <td>-0.313580</td>\n      <td>-0.536096</td>\n    </tr>\n    <tr>\n      <th>NSCLC1079</th>\n      <td>-0.821418</td>\n      <td>0.000000</td>\n    </tr>\n  </tbody>\n</table>\n</div>"
     },
     "execution_count": 22,
     "metadata": {},
     "output_type": "execute_result"
    }
   ],
   "source": [
    "df[['MHCI', 'MHCII']]"
   ],
   "metadata": {
    "collapsed": false,
    "pycharm": {
     "name": "#%%\n"
    }
   }
  },
  {
   "cell_type": "code",
   "execution_count": 23,
   "outputs": [
    {
     "data": {
      "text/plain": "['MHCI',\n 'MHCII',\n 'Coactivation_molecules',\n 'Effector_cells',\n 'T_cell_traffic',\n 'NK_cells',\n 'T_cells',\n 'B_cells',\n 'M1_signatures',\n 'Th1_signature',\n 'Antitumor_cytokines',\n 'Checkpoint_inhibition',\n 'Treg',\n 'T_reg_traffic',\n 'Neutrophil_signature',\n 'Granulocyte_traffic',\n 'MDSC',\n 'MDSC_traffic',\n 'Macrophages',\n 'Macrophage_DC_traffic',\n 'Th2_signature',\n 'Protumor_cytokines',\n 'CAF',\n 'Matrix',\n 'Matrix_remodeling',\n 'Angiogenesis',\n 'Endothelium',\n 'Proliferation_rate',\n 'EMT_signature']"
     },
     "execution_count": 23,
     "metadata": {},
     "output_type": "execute_result"
    }
   ],
   "source": [
    "list(df.columns)"
   ],
   "metadata": {
    "collapsed": false,
    "pycharm": {
     "name": "#%%\n"
    }
   }
  },
  {
   "cell_type": "code",
   "execution_count": 24,
   "outputs": [
    {
     "data": {
      "text/plain": "['NSCLC378',\n 'NSCLC1104',\n 'NSCLC947',\n 'NSCLC990',\n 'NSCLC1203',\n 'NSCLC1327',\n 'NSCLC1401',\n 'NSCLC1155',\n 'NSCLC573',\n 'NSCLC825',\n 'NSCLC1528',\n 'NSCLC1508',\n 'NSCLC1708',\n 'NSCLC1352',\n 'NSCLC1066',\n 'NSCLC1017',\n 'NSCLC1358',\n 'NSCLC1510',\n 'NSCLC1164',\n 'NSCLC1412',\n 'NSCLC1145',\n 'NSCLC1425',\n 'NSCLC1554',\n 'NSCLC1619',\n 'NSCLC1809',\n 'NSCLC1873',\n 'NSCLC1079']"
     },
     "execution_count": 24,
     "metadata": {},
     "output_type": "execute_result"
    }
   ],
   "source": [
    "list(df.index)"
   ],
   "metadata": {
    "collapsed": false,
    "pycharm": {
     "name": "#%%\n"
    }
   }
  },
  {
   "cell_type": "code",
   "execution_count": 25,
   "outputs": [
    {
     "data": {
      "text/plain": "            MHCI      MHCII  Coactivation_molecules  Effector_cells  \\\ncount  27.000000  27.000000               27.000000       27.000000   \nmean   -0.101796  -0.296981                0.114094       -0.203907   \nstd     1.286617   1.316580                1.255176        1.191538   \nmin    -3.509208  -4.000000               -1.717769       -2.226998   \n25%    -0.868999  -0.531904               -0.798594       -1.104363   \n50%     0.000000   0.000000                0.000000        0.000000   \n75%     0.756320   0.556093                0.908823        0.620747   \nmax     2.020388   1.188921                3.496175        2.012878   \n\n       T_cell_traffic   NK_cells    T_cells    B_cells  M1_signatures  \\\ncount       27.000000  27.000000  27.000000  27.000000      27.000000   \nmean        -0.116255   0.094791   0.090306   0.214537       0.169366   \nstd          1.212898   1.198325   1.235385   1.379326       1.366331   \nmin         -3.321540  -1.681417  -2.182547  -1.365310      -1.888318   \n25%         -0.927515  -0.973098  -0.793107  -0.832529      -0.755379   \n50%          0.000000   0.000000   0.000000   0.000000       0.000000   \n75%          0.844958   1.227264   0.804434   0.619309       0.579360   \nmax          1.447765   2.637079   2.472740   3.759136       4.000000   \n\n       Th1_signature  ...  Macrophage_DC_traffic  Th2_signature  \\\ncount      27.000000  ...              27.000000      27.000000   \nmean        0.222871  ...              -0.142645       0.280172   \nstd         1.254332  ...               1.259953       1.276194   \nmin        -1.970837  ...              -2.456226      -1.605412   \n25%        -0.717812  ...              -1.013200      -0.331487   \n50%         0.000000  ...               0.000000       0.000000   \n75%         1.049444  ...               0.566742       1.208779   \nmax         2.891224  ...               2.682199       4.000000   \n\n       Protumor_cytokines        CAF     Matrix  Matrix_remodeling  \\\ncount           27.000000  27.000000  27.000000          27.000000   \nmean             0.058429  -0.116767  -0.383764           0.135250   \nstd              1.244803   1.296945   1.224759           1.201483   \nmin             -2.091551  -2.770436  -3.002003          -1.959355   \n25%             -0.961008  -0.995630  -1.233785          -0.869633   \n50%              0.000000   0.000000   0.000000           0.000000   \n75%              1.127420   0.630246   0.455718           0.993652   \nmax              2.258654   2.065577   1.788279           2.474471   \n\n       Angiogenesis  Endothelium  Proliferation_rate  EMT_signature  \ncount     27.000000    27.000000           27.000000      27.000000  \nmean      -0.005537     0.263508           -0.186358       0.163102  \nstd        1.257068     1.282344            1.311030       1.209494  \nmin       -1.672832    -2.031098           -3.190754      -1.593720  \n25%       -0.977766    -0.496510           -0.860175      -0.870336  \n50%        0.000000     0.000000            0.000000       0.000000  \n75%        0.604144     0.916688            0.663675       0.836497  \nmax        3.044240     3.027719            2.079345       2.763335  \n\n[8 rows x 29 columns]",
      "text/html": "<div>\n<style scoped>\n    .dataframe tbody tr th:only-of-type {\n        vertical-align: middle;\n    }\n\n    .dataframe tbody tr th {\n        vertical-align: top;\n    }\n\n    .dataframe thead th {\n        text-align: right;\n    }\n</style>\n<table border=\"1\" class=\"dataframe\">\n  <thead>\n    <tr style=\"text-align: right;\">\n      <th></th>\n      <th>MHCI</th>\n      <th>MHCII</th>\n      <th>Coactivation_molecules</th>\n      <th>Effector_cells</th>\n      <th>T_cell_traffic</th>\n      <th>NK_cells</th>\n      <th>T_cells</th>\n      <th>B_cells</th>\n      <th>M1_signatures</th>\n      <th>Th1_signature</th>\n      <th>...</th>\n      <th>Macrophage_DC_traffic</th>\n      <th>Th2_signature</th>\n      <th>Protumor_cytokines</th>\n      <th>CAF</th>\n      <th>Matrix</th>\n      <th>Matrix_remodeling</th>\n      <th>Angiogenesis</th>\n      <th>Endothelium</th>\n      <th>Proliferation_rate</th>\n      <th>EMT_signature</th>\n    </tr>\n  </thead>\n  <tbody>\n    <tr>\n      <th>count</th>\n      <td>27.000000</td>\n      <td>27.000000</td>\n      <td>27.000000</td>\n      <td>27.000000</td>\n      <td>27.000000</td>\n      <td>27.000000</td>\n      <td>27.000000</td>\n      <td>27.000000</td>\n      <td>27.000000</td>\n      <td>27.000000</td>\n      <td>...</td>\n      <td>27.000000</td>\n      <td>27.000000</td>\n      <td>27.000000</td>\n      <td>27.000000</td>\n      <td>27.000000</td>\n      <td>27.000000</td>\n      <td>27.000000</td>\n      <td>27.000000</td>\n      <td>27.000000</td>\n      <td>27.000000</td>\n    </tr>\n    <tr>\n      <th>mean</th>\n      <td>-0.101796</td>\n      <td>-0.296981</td>\n      <td>0.114094</td>\n      <td>-0.203907</td>\n      <td>-0.116255</td>\n      <td>0.094791</td>\n      <td>0.090306</td>\n      <td>0.214537</td>\n      <td>0.169366</td>\n      <td>0.222871</td>\n      <td>...</td>\n      <td>-0.142645</td>\n      <td>0.280172</td>\n      <td>0.058429</td>\n      <td>-0.116767</td>\n      <td>-0.383764</td>\n      <td>0.135250</td>\n      <td>-0.005537</td>\n      <td>0.263508</td>\n      <td>-0.186358</td>\n      <td>0.163102</td>\n    </tr>\n    <tr>\n      <th>std</th>\n      <td>1.286617</td>\n      <td>1.316580</td>\n      <td>1.255176</td>\n      <td>1.191538</td>\n      <td>1.212898</td>\n      <td>1.198325</td>\n      <td>1.235385</td>\n      <td>1.379326</td>\n      <td>1.366331</td>\n      <td>1.254332</td>\n      <td>...</td>\n      <td>1.259953</td>\n      <td>1.276194</td>\n      <td>1.244803</td>\n      <td>1.296945</td>\n      <td>1.224759</td>\n      <td>1.201483</td>\n      <td>1.257068</td>\n      <td>1.282344</td>\n      <td>1.311030</td>\n      <td>1.209494</td>\n    </tr>\n    <tr>\n      <th>min</th>\n      <td>-3.509208</td>\n      <td>-4.000000</td>\n      <td>-1.717769</td>\n      <td>-2.226998</td>\n      <td>-3.321540</td>\n      <td>-1.681417</td>\n      <td>-2.182547</td>\n      <td>-1.365310</td>\n      <td>-1.888318</td>\n      <td>-1.970837</td>\n      <td>...</td>\n      <td>-2.456226</td>\n      <td>-1.605412</td>\n      <td>-2.091551</td>\n      <td>-2.770436</td>\n      <td>-3.002003</td>\n      <td>-1.959355</td>\n      <td>-1.672832</td>\n      <td>-2.031098</td>\n      <td>-3.190754</td>\n      <td>-1.593720</td>\n    </tr>\n    <tr>\n      <th>25%</th>\n      <td>-0.868999</td>\n      <td>-0.531904</td>\n      <td>-0.798594</td>\n      <td>-1.104363</td>\n      <td>-0.927515</td>\n      <td>-0.973098</td>\n      <td>-0.793107</td>\n      <td>-0.832529</td>\n      <td>-0.755379</td>\n      <td>-0.717812</td>\n      <td>...</td>\n      <td>-1.013200</td>\n      <td>-0.331487</td>\n      <td>-0.961008</td>\n      <td>-0.995630</td>\n      <td>-1.233785</td>\n      <td>-0.869633</td>\n      <td>-0.977766</td>\n      <td>-0.496510</td>\n      <td>-0.860175</td>\n      <td>-0.870336</td>\n    </tr>\n    <tr>\n      <th>50%</th>\n      <td>0.000000</td>\n      <td>0.000000</td>\n      <td>0.000000</td>\n      <td>0.000000</td>\n      <td>0.000000</td>\n      <td>0.000000</td>\n      <td>0.000000</td>\n      <td>0.000000</td>\n      <td>0.000000</td>\n      <td>0.000000</td>\n      <td>...</td>\n      <td>0.000000</td>\n      <td>0.000000</td>\n      <td>0.000000</td>\n      <td>0.000000</td>\n      <td>0.000000</td>\n      <td>0.000000</td>\n      <td>0.000000</td>\n      <td>0.000000</td>\n      <td>0.000000</td>\n      <td>0.000000</td>\n    </tr>\n    <tr>\n      <th>75%</th>\n      <td>0.756320</td>\n      <td>0.556093</td>\n      <td>0.908823</td>\n      <td>0.620747</td>\n      <td>0.844958</td>\n      <td>1.227264</td>\n      <td>0.804434</td>\n      <td>0.619309</td>\n      <td>0.579360</td>\n      <td>1.049444</td>\n      <td>...</td>\n      <td>0.566742</td>\n      <td>1.208779</td>\n      <td>1.127420</td>\n      <td>0.630246</td>\n      <td>0.455718</td>\n      <td>0.993652</td>\n      <td>0.604144</td>\n      <td>0.916688</td>\n      <td>0.663675</td>\n      <td>0.836497</td>\n    </tr>\n    <tr>\n      <th>max</th>\n      <td>2.020388</td>\n      <td>1.188921</td>\n      <td>3.496175</td>\n      <td>2.012878</td>\n      <td>1.447765</td>\n      <td>2.637079</td>\n      <td>2.472740</td>\n      <td>3.759136</td>\n      <td>4.000000</td>\n      <td>2.891224</td>\n      <td>...</td>\n      <td>2.682199</td>\n      <td>4.000000</td>\n      <td>2.258654</td>\n      <td>2.065577</td>\n      <td>1.788279</td>\n      <td>2.474471</td>\n      <td>3.044240</td>\n      <td>3.027719</td>\n      <td>2.079345</td>\n      <td>2.763335</td>\n    </tr>\n  </tbody>\n</table>\n<p>8 rows × 29 columns</p>\n</div>"
     },
     "execution_count": 25,
     "metadata": {},
     "output_type": "execute_result"
    }
   ],
   "source": [
    "df.describe()"
   ],
   "metadata": {
    "collapsed": false,
    "pycharm": {
     "name": "#%%\n"
    }
   }
  },
  {
   "cell_type": "code",
   "execution_count": 26,
   "outputs": [
    {
     "data": {
      "text/plain": "            MHCI      MHCII\ncount  27.000000  27.000000\nmean   -0.101796  -0.296981\nstd     1.286617   1.316580\nmin    -3.509208  -4.000000\n25%    -0.868999  -0.531904\n50%     0.000000   0.000000\n75%     0.756320   0.556093\nmax     2.020388   1.188921",
      "text/html": "<div>\n<style scoped>\n    .dataframe tbody tr th:only-of-type {\n        vertical-align: middle;\n    }\n\n    .dataframe tbody tr th {\n        vertical-align: top;\n    }\n\n    .dataframe thead th {\n        text-align: right;\n    }\n</style>\n<table border=\"1\" class=\"dataframe\">\n  <thead>\n    <tr style=\"text-align: right;\">\n      <th></th>\n      <th>MHCI</th>\n      <th>MHCII</th>\n    </tr>\n  </thead>\n  <tbody>\n    <tr>\n      <th>count</th>\n      <td>27.000000</td>\n      <td>27.000000</td>\n    </tr>\n    <tr>\n      <th>mean</th>\n      <td>-0.101796</td>\n      <td>-0.296981</td>\n    </tr>\n    <tr>\n      <th>std</th>\n      <td>1.286617</td>\n      <td>1.316580</td>\n    </tr>\n    <tr>\n      <th>min</th>\n      <td>-3.509208</td>\n      <td>-4.000000</td>\n    </tr>\n    <tr>\n      <th>25%</th>\n      <td>-0.868999</td>\n      <td>-0.531904</td>\n    </tr>\n    <tr>\n      <th>50%</th>\n      <td>0.000000</td>\n      <td>0.000000</td>\n    </tr>\n    <tr>\n      <th>75%</th>\n      <td>0.756320</td>\n      <td>0.556093</td>\n    </tr>\n    <tr>\n      <th>max</th>\n      <td>2.020388</td>\n      <td>1.188921</td>\n    </tr>\n  </tbody>\n</table>\n</div>"
     },
     "execution_count": 26,
     "metadata": {},
     "output_type": "execute_result"
    }
   ],
   "source": [
    "df[['MHCI', 'MHCII']].describe()"
   ],
   "metadata": {
    "collapsed": false,
    "pycharm": {
     "name": "#%%\n"
    }
   }
  },
  {
   "cell_type": "code",
   "execution_count": 30,
   "outputs": [
    {
     "data": {
      "text/plain": "           MHCI     MHCII\ncount  2.000000  2.000000\nmean  -0.892660 -0.418176\nstd    3.700357  2.272779\nmin   -3.509208 -2.025273\n25%   -2.200934 -1.221725\n50%   -0.892660 -0.418176\n75%    0.415614  0.385373\nmax    1.723888  1.188921",
      "text/html": "<div>\n<style scoped>\n    .dataframe tbody tr th:only-of-type {\n        vertical-align: middle;\n    }\n\n    .dataframe tbody tr th {\n        vertical-align: top;\n    }\n\n    .dataframe thead th {\n        text-align: right;\n    }\n</style>\n<table border=\"1\" class=\"dataframe\">\n  <thead>\n    <tr style=\"text-align: right;\">\n      <th></th>\n      <th>MHCI</th>\n      <th>MHCII</th>\n    </tr>\n  </thead>\n  <tbody>\n    <tr>\n      <th>count</th>\n      <td>2.000000</td>\n      <td>2.000000</td>\n    </tr>\n    <tr>\n      <th>mean</th>\n      <td>-0.892660</td>\n      <td>-0.418176</td>\n    </tr>\n    <tr>\n      <th>std</th>\n      <td>3.700357</td>\n      <td>2.272779</td>\n    </tr>\n    <tr>\n      <th>min</th>\n      <td>-3.509208</td>\n      <td>-2.025273</td>\n    </tr>\n    <tr>\n      <th>25%</th>\n      <td>-2.200934</td>\n      <td>-1.221725</td>\n    </tr>\n    <tr>\n      <th>50%</th>\n      <td>-0.892660</td>\n      <td>-0.418176</td>\n    </tr>\n    <tr>\n      <th>75%</th>\n      <td>0.415614</td>\n      <td>0.385373</td>\n    </tr>\n    <tr>\n      <th>max</th>\n      <td>1.723888</td>\n      <td>1.188921</td>\n    </tr>\n  </tbody>\n</table>\n</div>"
     },
     "execution_count": 30,
     "metadata": {},
     "output_type": "execute_result"
    }
   ],
   "source": [
    "df.loc[['NSCLC1104', 'NSCLC947']][['MHCI', 'MHCII']].describe()"
   ],
   "metadata": {
    "collapsed": false,
    "pycharm": {
     "name": "#%%\n"
    }
   }
  },
  {
   "cell_type": "code",
   "execution_count": null,
   "outputs": [],
   "source": [],
   "metadata": {
    "collapsed": false,
    "pycharm": {
     "name": "#%%\n"
    }
   }
  }
 ],
 "metadata": {
  "kernelspec": {
   "display_name": "Python 3",
   "language": "python",
   "name": "python3"
  },
  "language_info": {
   "codemirror_mode": {
    "name": "ipython",
    "version": 2
   },
   "file_extension": ".py",
   "mimetype": "text/x-python",
   "name": "python",
   "nbconvert_exporter": "python",
   "pygments_lexer": "ipython2",
   "version": "2.7.6"
  }
 },
 "nbformat": 4,
 "nbformat_minor": 0
}